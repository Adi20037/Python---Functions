{
  "nbformat": 4,
  "nbformat_minor": 0,
  "metadata": {
    "colab": {
      "provenance": []
    },
    "kernelspec": {
      "name": "python3",
      "display_name": "Python 3"
    },
    "language_info": {
      "name": "python"
    }
  },
  "cells": [
    {
      "cell_type": "markdown",
      "source": [
        "#Functions"
      ],
      "metadata": {
        "id": "acdl0kmqlIqS"
      }
    },
    {
      "cell_type": "markdown",
      "source": [
        "1. What is the difference between a function and a method in Python?\n",
        "\n",
        "Answer: A function is a block of code that exists independently and can be called by its name, while a method is a function that is associated with an object or class and is called using dot notation."
      ],
      "metadata": {
        "id": "-fursF5slKoa"
      }
    },
    {
      "cell_type": "code",
      "source": [
        "# Function\n",
        "def greet(name):\n",
        "    return f\"Hello, {name}!\"\n",
        "\n",
        "# Method\n",
        "class Person:\n",
        "    def greet(self, name):\n",
        "        return f\"Hello, {name}!\"\n",
        "\n",
        "# Calling function\n",
        "print(greet(\"Alice\"))  # Output: Hello, Alice!\n",
        "\n",
        "# Calling method\n",
        "person = Person()\n",
        "print(person.greet(\"Bob\"))  # Output: Hello, Bob!"
      ],
      "metadata": {
        "colab": {
          "base_uri": "https://localhost:8080/"
        },
        "id": "xNzrh3YglSjf",
        "outputId": "4d3ab415-8fb1-4e1b-943d-622fc0c23b62"
      },
      "execution_count": 1,
      "outputs": [
        {
          "output_type": "stream",
          "name": "stdout",
          "text": [
            "Hello, Alice!\n",
            "Hello, Bob!\n"
          ]
        }
      ]
    },
    {
      "cell_type": "markdown",
      "source": [
        "2. Explain the concept of function arguments and parameters in Python.\n",
        "\n",
        "Answer: Parameters are the variables defined in the function definition, while arguments are the actual values passed to the function when it is called."
      ],
      "metadata": {
        "id": "6sxc6nW6lT_N"
      }
    },
    {
      "cell_type": "code",
      "source": [
        "# Parameters: a, b\n",
        "def add(a, b):\n",
        "    return a + b\n",
        "\n",
        "# Arguments: 5, 3\n",
        "result = add(5, 3)\n",
        "print(result)  # Output: 8"
      ],
      "metadata": {
        "colab": {
          "base_uri": "https://localhost:8080/"
        },
        "id": "T1Pc9859lWp9",
        "outputId": "5d2386e1-24e4-4054-aa9d-c85fdb3c529d"
      },
      "execution_count": 2,
      "outputs": [
        {
          "output_type": "stream",
          "name": "stdout",
          "text": [
            "8\n"
          ]
        }
      ]
    },
    {
      "cell_type": "markdown",
      "source": [
        "3. What are the different ways to define and call a function in Python?\n",
        "\n",
        "Answer: Functions can be defined using the def keyword or as lambda functions. They can be called with positional arguments, keyword arguments, or default arguments."
      ],
      "metadata": {
        "id": "TOqVbclBlYsS"
      }
    },
    {
      "cell_type": "code",
      "source": [
        "# Function definition\n",
        "def greet(name, message=\"Hello\"):\n",
        "    return f\"{message}, {name}!\"\n",
        "\n",
        "# Different ways to call\n",
        "print(greet(\"Alice\"))  # Positional\n",
        "print(greet(name=\"Bob\", message=\"Hi\"))  # Keyword\n",
        "print(greet(message=\"Hey\", name=\"Charlie\"))  # Keyword (order changed)"
      ],
      "metadata": {
        "colab": {
          "base_uri": "https://localhost:8080/"
        },
        "id": "eTiDgeaolbaD",
        "outputId": "0c3fa789-363e-457e-86ec-8cce8b816d89"
      },
      "execution_count": 3,
      "outputs": [
        {
          "output_type": "stream",
          "name": "stdout",
          "text": [
            "Hello, Alice!\n",
            "Hi, Bob!\n",
            "Hey, Charlie!\n"
          ]
        }
      ]
    },
    {
      "cell_type": "markdown",
      "source": [
        "4. What is the purpose of the return statement in a Python function?\n",
        "\n",
        "Answer: The return statement is used to exit a function and return a value to the caller. If no return statement is specified, the function returns None."
      ],
      "metadata": {
        "id": "YqoqiekoleRh"
      }
    },
    {
      "cell_type": "code",
      "source": [
        "def add(a, b):\n",
        "    return a + b\n",
        "\n",
        "result = add(3, 4)\n",
        "print(result)  # Output: 7"
      ],
      "metadata": {
        "colab": {
          "base_uri": "https://localhost:8080/"
        },
        "id": "mIbQzQmdlhvB",
        "outputId": "c0a96d78-a3af-4c9c-faf4-585d18a4f964"
      },
      "execution_count": 4,
      "outputs": [
        {
          "output_type": "stream",
          "name": "stdout",
          "text": [
            "7\n"
          ]
        }
      ]
    },
    {
      "cell_type": "markdown",
      "source": [
        "5. What are iterators in Python and how do they differ from iterables?\n",
        "\n",
        "Answer: An iterable is any object that can return an iterator (like lists, strings), while an iterator is an object that keeps state and produces the next value when next() is called."
      ],
      "metadata": {
        "id": "27S4sZfWljtT"
      }
    },
    {
      "cell_type": "code",
      "source": [
        "# Iterable\n",
        "my_list = [1, 2, 3]\n",
        "\n",
        "# Getting iterator\n",
        "my_iter = iter(my_list)\n",
        "\n",
        "# Using iterator\n",
        "print(next(my_iter))  # Output: 1\n",
        "print(next(my_iter))  # Output: 2\n",
        "print(next(my_iter))  # Output: 3"
      ],
      "metadata": {
        "colab": {
          "base_uri": "https://localhost:8080/"
        },
        "id": "VH2IVSeMlmd5",
        "outputId": "643681c8-12c8-481d-d64f-501cac1d9695"
      },
      "execution_count": 5,
      "outputs": [
        {
          "output_type": "stream",
          "name": "stdout",
          "text": [
            "1\n",
            "2\n",
            "3\n"
          ]
        }
      ]
    },
    {
      "cell_type": "markdown",
      "source": [
        "6. Explain the concept of generators in Python and how they are defined.\n",
        "\n",
        "Answer: Generators are functions that return an iterator using the yield keyword. They generate values on the fly and maintain their state between calls."
      ],
      "metadata": {
        "id": "KKUGztvTloPt"
      }
    },
    {
      "cell_type": "code",
      "source": [
        "def count_up_to(n):\n",
        "    count = 1\n",
        "    while count <= n:\n",
        "        yield count\n",
        "        count += 1\n",
        "\n",
        "# Using generator\n",
        "counter = count_up_to(3)\n",
        "print(list(counter))  # Output: [1, 2, 3]"
      ],
      "metadata": {
        "colab": {
          "base_uri": "https://localhost:8080/"
        },
        "id": "_aZRM5fdlrXx",
        "outputId": "db531cde-ec3b-4d4c-e662-7c760a85a574"
      },
      "execution_count": 6,
      "outputs": [
        {
          "output_type": "stream",
          "name": "stdout",
          "text": [
            "[1, 2, 3]\n"
          ]
        }
      ]
    },
    {
      "cell_type": "markdown",
      "source": [
        "7. What are the advantages of using generators over regular functions?\n",
        "\n",
        "Answer: Generators are memory efficient as they generate values on the fly rather than storing them all in memory. They also maintain state between calls and can represent infinite sequences."
      ],
      "metadata": {
        "id": "Uu-0k4VDlsQ2"
      }
    },
    {
      "cell_type": "code",
      "source": [
        "# Regular function (stores all values in memory)\n",
        "def squares_list(n):\n",
        "    result = []\n",
        "    for i in range(n):\n",
        "        result.append(i * i)\n",
        "    return result\n",
        "\n",
        "# Generator (generates values on the fly)\n",
        "def squares_gen(n):\n",
        "    for i in range(n):\n",
        "        yield i * i\n",
        "\n",
        "# Memory usage comparison\n",
        "import sys\n",
        "print(sys.getsizeof(squares_list(1000)))  # Larger size\n",
        "print(sys.getsizeof(squares_gen(1000)))   # Smaller size"
      ],
      "metadata": {
        "colab": {
          "base_uri": "https://localhost:8080/"
        },
        "id": "k6fOj0iBlu1e",
        "outputId": "cbfbc126-f461-4254-a5ac-f68bb643adee"
      },
      "execution_count": 7,
      "outputs": [
        {
          "output_type": "stream",
          "name": "stdout",
          "text": [
            "8856\n",
            "200\n"
          ]
        }
      ]
    },
    {
      "cell_type": "markdown",
      "source": [
        "8. What is a lambda function in Python and when is it typically used?\n",
        "\n",
        "Answer: A lambda function is a small anonymous function defined with the lambda keyword. It's typically used for short, simple operations where a full function definition would be cumbersome."
      ],
      "metadata": {
        "id": "cILJqsAMlwgP"
      }
    },
    {
      "cell_type": "code",
      "source": [
        "# Regular function\n",
        "def square(x):\n",
        "    return x * x\n",
        "\n",
        "# Lambda function\n",
        "square_lambda = lambda x: x * x\n",
        "\n",
        "print(square(5))  # Output: 25\n",
        "print(square_lambda(5))  # Output: 25\n",
        "\n",
        "# Typical use with map()\n",
        "numbers = [1, 2, 3, 4]\n",
        "squared = list(map(lambda x: x * x, numbers))\n",
        "print(squared)  # Output: [1, 4, 9, 16]"
      ],
      "metadata": {
        "colab": {
          "base_uri": "https://localhost:8080/"
        },
        "id": "A17hF-Hql1bx",
        "outputId": "d817b4a5-531d-413b-f911-5c95e6fb8428"
      },
      "execution_count": 8,
      "outputs": [
        {
          "output_type": "stream",
          "name": "stdout",
          "text": [
            "25\n",
            "25\n",
            "[1, 4, 9, 16]\n"
          ]
        }
      ]
    },
    {
      "cell_type": "markdown",
      "source": [
        "9. Explain the purpose and usage of the map() function in Python.\n",
        "\n",
        "Answer: The map() function applies a given function to all items in an input list (or other iterable) and returns an iterator."
      ],
      "metadata": {
        "id": "5q8hbtvxl3bV"
      }
    },
    {
      "cell_type": "code",
      "source": [
        "def square(x):\n",
        "    return x * x\n",
        "\n",
        "numbers = [1, 2, 3, 4]\n",
        "squared = list(map(square, numbers))\n",
        "print(squared)  # Output: [1, 4, 9, 16]\n",
        "\n",
        "# With lambda\n",
        "squared_lambda = list(map(lambda x: x * x, numbers))\n",
        "print(squared_lambda)  # Output: [1, 4, 9, 16]"
      ],
      "metadata": {
        "colab": {
          "base_uri": "https://localhost:8080/"
        },
        "id": "y4TYr712l6A-",
        "outputId": "cdbca82b-2e62-45e5-9104-03cb5830949d"
      },
      "execution_count": 9,
      "outputs": [
        {
          "output_type": "stream",
          "name": "stdout",
          "text": [
            "[1, 4, 9, 16]\n",
            "[1, 4, 9, 16]\n"
          ]
        }
      ]
    },
    {
      "cell_type": "markdown",
      "source": [
        "10. What is the difference between map(), reduce(), and filter() functions in Python?\n",
        "Answer:\n",
        "\n",
        "map(): Applies a function to all items in an iterable and returns a new iterable\n",
        "\n",
        "filter(): Filters items from an iterable based on a condition and returns a new iterable\n",
        "\n",
        "reduce(): Applies a function cumulatively to items in an iterable and returns a single value"
      ],
      "metadata": {
        "id": "UaZad8tbl7h1"
      }
    },
    {
      "cell_type": "code",
      "source": [
        "from functools import reduce\n",
        "\n",
        "numbers = [1, 2, 3, 4, 5, 6]\n",
        "\n",
        "# map: square all numbers\n",
        "squared = list(map(lambda x: x * x, numbers))\n",
        "print(squared)  # Output: [1, 4, 9, 16, 25, 36]\n",
        "\n",
        "# filter: get even numbers\n",
        "evens = list(filter(lambda x: x % 2 == 0, numbers))\n",
        "print(evens)  # Output: [2, 4, 6]\n",
        "\n",
        "# reduce: sum all numbers\n",
        "total = reduce(lambda x, y: x + y, numbers)\n",
        "print(total)  # Output: 21"
      ],
      "metadata": {
        "colab": {
          "base_uri": "https://localhost:8080/"
        },
        "id": "zuV3ksAPmBEP",
        "outputId": "f73eb2b0-3d7c-4c43-f439-cb4960d90e92"
      },
      "execution_count": 10,
      "outputs": [
        {
          "output_type": "stream",
          "name": "stdout",
          "text": [
            "[1, 4, 9, 16, 25, 36]\n",
            "[2, 4, 6]\n",
            "21\n"
          ]
        }
      ]
    },
    {
      "cell_type": "markdown",
      "source": [
        "11. Using pen & Paper write the internal mechanism for sum operation using reduce function on this given list: [47,11,42,13]\n",
        "\n",
        "Answer: The reduce function would work as follows:\n",
        "\n",
        "Step 1: 47 + 11 = 58\n",
        "\n",
        "Step 2: 58 + 42 = 100\n",
        "\n",
        "Step 3: 100 + 13 = 113\n",
        "\n",
        "Final result: 113"
      ],
      "metadata": {
        "id": "fWMS5_B3mC8r"
      }
    },
    {
      "cell_type": "markdown",
      "source": [
        "#Practical Questions"
      ],
      "metadata": {
        "id": "50AQnv-bmTzR"
      }
    },
    {
      "cell_type": "code",
      "source": [
        "# 1.  1. Write a Python function that takes a list of numbers as input and returns the sum of all even numbers in the list.\n",
        "\n",
        "def sum_even_numbers(numbers):\n",
        "    return sum(num for num in numbers if num % 2 == 0)\n",
        "\n",
        "# Example\n",
        "print(sum_even_numbers([1, 2, 3, 4, 5, 6]))  # Output: 12\n"
      ],
      "metadata": {
        "colab": {
          "base_uri": "https://localhost:8080/"
        },
        "id": "2MpkSEc1mY1g",
        "outputId": "ae15163a-ed3e-49b5-cd87-ea178b223751"
      },
      "execution_count": 12,
      "outputs": [
        {
          "output_type": "stream",
          "name": "stdout",
          "text": [
            "12\n"
          ]
        }
      ]
    },
    {
      "cell_type": "code",
      "source": [
        "# 2. Create a Python function that accepts a string and returns the reverse of that string.\n",
        "\n",
        "def reverse_string(s):\n",
        "    return s[::-1]\n",
        "\n",
        "# Example\n",
        "print(reverse_string(\"hello\"))  # Output: \"olleh\""
      ],
      "metadata": {
        "colab": {
          "base_uri": "https://localhost:8080/"
        },
        "id": "v9JhEoUHmdHB",
        "outputId": "76434ea3-3b73-411e-bf6f-d163c7f0b790"
      },
      "execution_count": 13,
      "outputs": [
        {
          "output_type": "stream",
          "name": "stdout",
          "text": [
            "olleh\n"
          ]
        }
      ]
    },
    {
      "cell_type": "code",
      "source": [
        "#  3. Implement a Python function that takes a list of integers and returns a new list containing the squares of each number.\n",
        "\n",
        "def square_numbers(numbers):\n",
        "    return [num * num for num in numbers]\n",
        "\n",
        "# Example\n",
        "print(square_numbers([1, 2, 3, 4, 5]))  # Output: [1, 4, 9, 16, 25]"
      ],
      "metadata": {
        "colab": {
          "base_uri": "https://localhost:8080/"
        },
        "id": "bEAK8iMtmqEN",
        "outputId": "f6d96fbf-051b-4599-cf15-35a23d3df027"
      },
      "execution_count": 14,
      "outputs": [
        {
          "output_type": "stream",
          "name": "stdout",
          "text": [
            "[1, 4, 9, 16, 25]\n"
          ]
        }
      ]
    },
    {
      "cell_type": "code",
      "source": [
        "#  4. Write a Python function that checks if a given number is prime or not from 1 to 200.\n",
        "\n",
        "def is_prime(n):\n",
        "    if n < 2:\n",
        "        return False\n",
        "    for i in range(2, int(n**0.5) + 1):\n",
        "        if n % i == 0:\n",
        "            return False\n",
        "    return True\n",
        "\n",
        "def find_primes_up_to_200():\n",
        "    return [num for num in range(1, 201) if is_prime(num)]\n",
        "\n",
        "# Example\n",
        "primes = find_primes_up_to_200()\n",
        "print(f\"Prime numbers from 1 to 200: {primes}\")\n"
      ],
      "metadata": {
        "colab": {
          "base_uri": "https://localhost:8080/"
        },
        "id": "MZiN56JHmvrY",
        "outputId": "dc5268d1-5665-4f5e-ddb5-1f203f5fdf34"
      },
      "execution_count": 15,
      "outputs": [
        {
          "output_type": "stream",
          "name": "stdout",
          "text": [
            "Prime numbers from 1 to 200: [2, 3, 5, 7, 11, 13, 17, 19, 23, 29, 31, 37, 41, 43, 47, 53, 59, 61, 67, 71, 73, 79, 83, 89, 97, 101, 103, 107, 109, 113, 127, 131, 137, 139, 149, 151, 157, 163, 167, 173, 179, 181, 191, 193, 197, 199]\n"
          ]
        }
      ]
    },
    {
      "cell_type": "code",
      "source": [
        "#  5. Create an iterator class in Python that generates the Fibonacci sequence up to a specified number of terms.\n",
        "\n",
        "class FibonacciIterator:\n",
        "    def __init__(self, n):\n",
        "        self.n = n\n",
        "        self.current = 0\n",
        "        self.next_num = 1\n",
        "        self.count = 0\n",
        "\n",
        "    def __iter__(self):\n",
        "        return self\n",
        "\n",
        "    def __next__(self):\n",
        "        if self.count >= self.n:\n",
        "            raise StopIteration\n",
        "        if self.count == 0:\n",
        "            result = self.current\n",
        "        elif self.count == 1:\n",
        "            result = self.next_num\n",
        "        else:\n",
        "            result = self.current + self.next_num\n",
        "            self.current = self.next_num\n",
        "            self.next_num = result\n",
        "\n",
        "        self.count += 1\n",
        "        return result\n",
        "\n",
        "# Example\n",
        "fib = FibonacciIterator(10)\n",
        "print(list(fib))  # Output: [0, 1, 1, 2, 3, 5, 8, 13, 21, 34]"
      ],
      "metadata": {
        "colab": {
          "base_uri": "https://localhost:8080/"
        },
        "id": "yVQkpmrGm21M",
        "outputId": "fa7a824a-1a6a-43a2-d716-1d8391531413"
      },
      "execution_count": 16,
      "outputs": [
        {
          "output_type": "stream",
          "name": "stdout",
          "text": [
            "[0, 1, 1, 2, 3, 5, 8, 13, 21, 34]\n"
          ]
        }
      ]
    },
    {
      "cell_type": "code",
      "source": [
        "#  6. Write a generator function in Python that yields the powers of 2 up to a given exponent.\n",
        "\n",
        "def powers_of_two(exponent):\n",
        "    for i in range(exponent + 1):\n",
        "        yield 2 ** i\n",
        "\n",
        "# Example\n",
        "print(list(powers_of_two(5)))  # Output: [1, 2, 4, 8, 16, 32]"
      ],
      "metadata": {
        "colab": {
          "base_uri": "https://localhost:8080/"
        },
        "id": "FMxZywCmoLPD",
        "outputId": "bec0bf25-fbd4-490a-b67b-4a8206a44359"
      },
      "execution_count": 17,
      "outputs": [
        {
          "output_type": "stream",
          "name": "stdout",
          "text": [
            "[1, 2, 4, 8, 16, 32]\n"
          ]
        }
      ]
    },
    {
      "cell_type": "code",
      "source": [
        "#  7. Implement a generator function that reads a file line by line and yields each line as a string.\n",
        "\n",
        "def read_file_line_by_line(filename):\n",
        "    with open(filename, 'r') as file:\n",
        "        for line in file:\n",
        "            yield line.strip()\n",
        "\n",
        "# Example usage (assuming file exists)\n",
        "# for line in read_file_line_by_line('example.txt'):\n",
        "#     print(line)"
      ],
      "metadata": {
        "id": "ageCvd-voO0g"
      },
      "execution_count": 20,
      "outputs": []
    },
    {
      "cell_type": "code",
      "source": [
        "#  8. Use a lambda function in Python to sort a list of tuples based on the second element of each tuple.\n",
        "\n",
        "def sort_tuples_by_second_element(tuples_list):\n",
        "    return sorted(tuples_list, key=lambda x: x[1])\n",
        "\n",
        "# Example\n",
        "tuples = [(1, 3), (4, 1), (2, 2), (5, 4)]\n",
        "sorted_tuples = sort_tuples_by_second_element(tuples)\n",
        "print(sorted_tuples)  # Output: [(4, 1), (2, 2), (1, 3), (5, 4)]"
      ],
      "metadata": {
        "colab": {
          "base_uri": "https://localhost:8080/"
        },
        "id": "mizXFXAQompY",
        "outputId": "ae6974a2-6813-43e9-c59d-c469ad670aae"
      },
      "execution_count": 21,
      "outputs": [
        {
          "output_type": "stream",
          "name": "stdout",
          "text": [
            "[(4, 1), (2, 2), (1, 3), (5, 4)]\n"
          ]
        }
      ]
    },
    {
      "cell_type": "code",
      "source": [
        "#  9. Write a Python program that uses `map()` to convert a list of temperatures from Celsius to Fahrenheit.\n",
        "\n",
        "def celsius_to_fahrenheit(celsius_list):\n",
        "    return list(map(lambda c: (c * 9/5) + 32, celsius_list))\n",
        "\n",
        "# Example\n",
        "celsius_temps = [0, 20, 30, 40, 100]\n",
        "fahrenheit_temps = celsius_to_fahrenheit(celsius_temps)\n",
        "print(fahrenheit_temps)  # Output: [32.0, 68.0, 86.0, 104.0, 212.0]"
      ],
      "metadata": {
        "colab": {
          "base_uri": "https://localhost:8080/"
        },
        "id": "N6uwAJMCormn",
        "outputId": "072b13f8-5ae8-41ea-89b7-b47c3a3dee43"
      },
      "execution_count": 22,
      "outputs": [
        {
          "output_type": "stream",
          "name": "stdout",
          "text": [
            "[32.0, 68.0, 86.0, 104.0, 212.0]\n"
          ]
        }
      ]
    },
    {
      "cell_type": "code",
      "source": [
        "#  10. Create a Python program that uses `filter()` to remove all the vowels from a given string.\n",
        "\n",
        "def remove_vowels(text):\n",
        "    vowels = \"aeiouAEIOU\"\n",
        "    return ''.join(filter(lambda char: char not in vowels, text))\n",
        "\n",
        "# Example\n",
        "text = \"Hello World\"\n",
        "result = remove_vowels(text)\n",
        "print(result)  # Output: \"Hll Wrld\""
      ],
      "metadata": {
        "colab": {
          "base_uri": "https://localhost:8080/"
        },
        "id": "hkk-J5woov18",
        "outputId": "ab6994a9-4394-44d2-b6cc-0974c21056bc"
      },
      "execution_count": 23,
      "outputs": [
        {
          "output_type": "stream",
          "name": "stdout",
          "text": [
            "Hll Wrld\n"
          ]
        }
      ]
    },
    {
      "cell_type": "code",
      "source": [
        "#  11) Imagine an accounting routine used in a book shop. It works on a list with sublists, which look like this:\n",
        "\n",
        "orders = [\n",
        "    (34587, \"Learning Python, Mark Lutz\", 4, 40.95),\n",
        "    (98762, \"Programming Python, Mark Lutz\", 5, 56.80),\n",
        "    (77226, \"Head First Python, Paul Barry\", 3, 32.95),\n",
        "    (88112, \"Einführung in Python3, Bernd Klein\", 3, 24.99)\n",
        "]\n",
        "\n",
        "def calculate_order_total(order):\n",
        "    order_num, _, quantity, price = order\n",
        "    total = quantity * price\n",
        "    if total < 100:\n",
        "        total += 10\n",
        "    return (order_num, total)\n",
        "\n",
        "# Using map and lambda\n",
        "order_totals = list(map(lambda order: (order[0], order[2] * order[3] + (10 if order[2] * order[3] < 100 else 0)), orders))\n",
        "\n",
        "print(\"Order totals:\")\n",
        "for order_num, total in order_totals:\n",
        "    print(f\"Order {order_num}: €{total:.2f}\")"
      ],
      "metadata": {
        "colab": {
          "base_uri": "https://localhost:8080/"
        },
        "id": "ZdRiwRszozhs",
        "outputId": "5b38d5fa-6873-4509-c5ed-0a47a70636f5"
      },
      "execution_count": 24,
      "outputs": [
        {
          "output_type": "stream",
          "name": "stdout",
          "text": [
            "Order totals:\n",
            "Order 34587: €163.80\n",
            "Order 98762: €284.00\n",
            "Order 77226: €108.85\n",
            "Order 88112: €84.97\n"
          ]
        }
      ]
    }
  ]
}